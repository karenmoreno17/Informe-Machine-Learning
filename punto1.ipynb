{
 "cells": [
  {
   "attachments": {},
   "cell_type": "markdown",
   "metadata": {},
   "source": [
    "# Punto 01 del Informe de Machine Learning"
   ]
  },
  {
   "attachments": {},
   "cell_type": "markdown",
   "metadata": {},
   "source": [
    "Importaciones"
   ]
  },
  {
   "cell_type": "code",
   "execution_count": 2,
   "metadata": {},
   "outputs": [],
   "source": [
    "import pandas as pd\n",
    "import numpy as np\n",
    "import warnings\n",
    "import sklearn"
   ]
  },
  {
   "attachments": {},
   "cell_type": "markdown",
   "metadata": {},
   "source": [
    "Leer los datos del archivo titanic.csv.\n",
    "Si el archivo se encuentra en su carpeta, corra el primer bloque, de no ser así, ejecute el segundo."
   ]
  },
  {
   "cell_type": "code",
   "execution_count": 7,
   "metadata": {},
   "outputs": [],
   "source": [
    "direccion = (\"./data/titanic.csv\")\n",
    "datos = pd.read_csv(direccion, sep=\";\")\n",
    "\n",
    "datos.columns = [\"survived\", \"Name\", \"pclass\", \"sex\", \"age\", \"sibsp\", \"parch\", \"fare\", \"who\", \"embark_town\", \"alone\"]"
   ]
  },
  {
   "cell_type": "code",
   "execution_count": 6,
   "metadata": {},
   "outputs": [],
   "source": [
    "url = (\"https://raw.githubusercontent.com/karenmoreno17/Informe-Machine-Learning/main/titanic.csv\")\n",
    "datos = pd.read_csv(url, sep=\";\")\n",
    "\n",
    "datos.columns = [\"survived\", \"Name\", \"pclass\", \"sex\", \"age\", \"sibsp\", \"parch\", \"fare\", \"who\", \"embark_town\", \"alone\"]"
   ]
  }
 ],
 "metadata": {
  "kernelspec": {
   "display_name": "Python 3",
   "language": "python",
   "name": "python3"
  },
  "language_info": {
   "codemirror_mode": {
    "name": "ipython",
    "version": 3
   },
   "file_extension": ".py",
   "mimetype": "text/x-python",
   "name": "python",
   "nbconvert_exporter": "python",
   "pygments_lexer": "ipython3",
   "version": "3.10.4"
  },
  "orig_nbformat": 4,
  "vscode": {
   "interpreter": {
    "hash": "2359ef06096592ff2f145c11e704155980752662a078f3b6289e1ddd845e5972"
   }
  }
 },
 "nbformat": 4,
 "nbformat_minor": 2
}
